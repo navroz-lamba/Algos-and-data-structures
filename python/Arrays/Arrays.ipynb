{
 "cells": [
  {
   "cell_type": "code",
   "execution_count": null,
   "metadata": {},
   "outputs": [],
   "source": []
  },
  {
   "cell_type": "code",
   "execution_count": 60,
   "metadata": {},
   "outputs": [],
   "source": [
    "class Arrays():\n",
    "    \n",
    "    def __init__(self, size=0):\n",
    "        \n",
    "        self.content = []\n",
    "        self.size = size\n",
    "    \n",
    "    \n",
    "    def displayContent(self):\n",
    "        \n",
    "        return [x for i,x in enumerate(self.content) if i < self.size]\n",
    "    \n",
    "    \n",
    "    def insert(self, item):\n",
    "        \n",
    "        self.content[self.size:] = [item]\n",
    "        self.size += 1\n",
    "    \n",
    "    \n",
    "    def removeAt(self, index):\n",
    "        # check if the value of index is appropriate \n",
    "        if index < 0 or index >= self.size:\n",
    "            return f\"Index out of range\"\n",
    "        # removing the last item \n",
    "        if index == self.size - 1:\n",
    "            self.content.pop(index)\n",
    "            self.size -= 1\n",
    "            return \n",
    "        # removing other items we move will have \n",
    "        # to move and fill the hole \n",
    "        i = index\n",
    "        while i < self.size-1:\n",
    "            self.content[i] = self.content[i+1]\n",
    "            i += 1\n",
    "        self.size -= 1\n",
    "        \n",
    "    \n",
    "    def indexOf(self, item):\n",
    "     \n",
    "        for  i, x in enumerate(self.content):\n",
    "            if x == item:\n",
    "                return i\n",
    "        return -1\n",
    "    \n",
    "    \n",
    "    def max(self):\n",
    "        \n",
    "        if self.size == 0:\n",
    "            return f\"Index out of range\"\n",
    "        m = 0\n",
    "        for x in self.content:\n",
    "            if x > m:\n",
    "                m = x\n",
    "        \n",
    "        return x\n",
    "    \n",
    "    \n",
    "    def intersect(self):\n",
    "        "
   ]
  },
  {
   "cell_type": "code",
   "execution_count": 61,
   "metadata": {},
   "outputs": [
    {
     "name": "stdout",
     "output_type": "stream",
     "text": [
      "[10, 20, 30, 40, 50]\n",
      "5\n",
      "[20, 30, 40, 50]\n"
     ]
    },
    {
     "data": {
      "text/plain": [
       "50"
      ]
     },
     "execution_count": 61,
     "metadata": {},
     "output_type": "execute_result"
    }
   ],
   "source": [
    "array = Arrays()\n",
    "\n",
    "\n",
    "array.insert(10)\n",
    "array.insert(20)\n",
    "array.insert(30)\n",
    "array.insert(40)\n",
    "array.insert(50)\n",
    "\n",
    "print(array.displayContent())\n",
    "\n",
    "print(array.size)\n",
    "array.removeAt(0)\n",
    "\n",
    "print(array.displayContent())\n",
    "\n",
    "\n",
    "array.indexOf(40)\n",
    "\n",
    "array.max()\n",
    "\n"
   ]
  },
  {
   "cell_type": "code",
   "execution_count": 18,
   "metadata": {},
   "outputs": [],
   "source": [
    "array.something = \"Navroz\""
   ]
  },
  {
   "cell_type": "code",
   "execution_count": 24,
   "metadata": {},
   "outputs": [
    {
     "name": "stdout",
     "output_type": "stream",
     "text": [
      "Navroz\n"
     ]
    }
   ],
   "source": [
    "print(array.something)"
   ]
  },
  {
   "cell_type": "code",
   "execution_count": 25,
   "metadata": {},
   "outputs": [],
   "source": [
    "class ErgArray:\n",
    "\n",
    "    def __init__(self, size = 0): \n",
    "        self.size = size\n",
    "        self.contents = []\n",
    "\n",
    "    def display_contents(self):\n",
    "        [print(x) for i, x in enumerate(self.contents) if i < self.size]\n",
    "            \n",
    "\n",
    "    def erg_insert(self,element):\n",
    "        # if array is full resize. not necessary in python\n",
    "        # insert item at the end of the \n",
    "        # a[len(a):] = [x]\n",
    "        self.contents[self.size:] = [element]\n",
    "        self.size += 1"
   ]
  },
  {
   "cell_type": "code",
   "execution_count": 27,
   "metadata": {},
   "outputs": [
    {
     "name": "stdout",
     "output_type": "stream",
     "text": [
      "10\n",
      "20\n",
      "30\n"
     ]
    }
   ],
   "source": [
    "test_array = ErgArray()\n",
    "\n",
    "test_array.erg_insert(10)\n",
    "# test_array.get_size()\n",
    "test_array.erg_insert(20)\n",
    "# test_array.get_size()\n",
    "test_array.erg_insert(30)\n",
    "# test_array.get_size()\n",
    "\n",
    "test_array.display_contents()"
   ]
  },
  {
   "cell_type": "code",
   "execution_count": null,
   "metadata": {},
   "outputs": [],
   "source": []
  }
 ],
 "metadata": {
  "kernelspec": {
   "display_name": "Python 3",
   "language": "python",
   "name": "python3"
  },
  "language_info": {
   "codemirror_mode": {
    "name": "ipython",
    "version": 3
   },
   "file_extension": ".py",
   "mimetype": "text/x-python",
   "name": "python",
   "nbconvert_exporter": "python",
   "pygments_lexer": "ipython3",
   "version": "3.8.3"
  },
  "toc": {
   "base_numbering": 1,
   "nav_menu": {},
   "number_sections": true,
   "sideBar": true,
   "skip_h1_title": false,
   "title_cell": "Table of Contents",
   "title_sidebar": "Contents",
   "toc_cell": false,
   "toc_position": {},
   "toc_section_display": true,
   "toc_window_display": false
  },
  "varInspector": {
   "cols": {
    "lenName": 16,
    "lenType": 16,
    "lenVar": 40
   },
   "kernels_config": {
    "python": {
     "delete_cmd_postfix": "",
     "delete_cmd_prefix": "del ",
     "library": "var_list.py",
     "varRefreshCmd": "print(var_dic_list())"
    },
    "r": {
     "delete_cmd_postfix": ") ",
     "delete_cmd_prefix": "rm(",
     "library": "var_list.r",
     "varRefreshCmd": "cat(var_dic_list()) "
    }
   },
   "types_to_exclude": [
    "module",
    "function",
    "builtin_function_or_method",
    "instance",
    "_Feature"
   ],
   "window_display": false
  }
 },
 "nbformat": 4,
 "nbformat_minor": 4
}
