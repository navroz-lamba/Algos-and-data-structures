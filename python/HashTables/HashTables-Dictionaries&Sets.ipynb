{
 "cells": [
  {
   "cell_type": "markdown",
   "metadata": {},
   "source": [
    "# Exercise 1 "
   ]
  },
  {
   "cell_type": "code",
   "execution_count": 44,
   "metadata": {},
   "outputs": [
    {
     "name": "stdout",
     "output_type": "stream",
     "text": [
      "g\n"
     ]
    }
   ],
   "source": [
    "def findFirstNonRepeatedChar(string):\n",
    "    \n",
    "    dict1 = {}\n",
    "    \n",
    "    for i in string:\n",
    "        dict1[i] = string.count(i)\n",
    "        if dict1[i] == 1:\n",
    "            return i\n",
    "    \n",
    "print(findFirstNonRepeatedChar(\"green apple\"))"
   ]
  },
  {
   "cell_type": "markdown",
   "metadata": {},
   "source": [
    "# Exercise 2"
   ]
  },
  {
   "cell_type": "code",
   "execution_count": 43,
   "metadata": {},
   "outputs": [
    {
     "name": "stdout",
     "output_type": "stream",
     "text": [
      "e\n"
     ]
    }
   ],
   "source": [
    "def firstRepeatedChar(string):\n",
    "    \n",
    "    set1 = set()\n",
    "    for i in string:\n",
    "        if i in set1:\n",
    "            return i\n",
    "        \n",
    "        set1.add(i)\n",
    "    \n",
    "    return \"Nada\"\n",
    "    \n",
    "    \n",
    "print(firstRepeatedChar(\"green apple\"))"
   ]
  },
  {
   "cell_type": "markdown",
   "metadata": {},
   "source": [
    "# Hash functions"
   ]
  },
  {
   "cell_type": "markdown",
   "metadata": {},
   "source": [
    "Get the value of the given string to store that into an array of size 100"
   ]
  },
  {
   "cell_type": "code",
   "execution_count": 412,
   "metadata": {},
   "outputs": [
    {
     "data": {
      "text/plain": [
       "9"
      ]
     },
     "execution_count": 412,
     "metadata": {},
     "output_type": "execute_result"
    }
   ],
   "source": [
    "def hashvalue(string):\n",
    "\n",
    "    hash = 0\n",
    "    for i in string:\n",
    "        hash += ord(i)\n",
    "\n",
    "    return hash % 100 #Cuz the array we are considering is static and of size 100\n",
    "\n",
    "hashvalue(\"123456\")"
   ]
  },
  {
   "cell_type": "code",
   "execution_count": 414,
   "metadata": {},
   "outputs": [
    {
     "data": {
      "text/plain": [
       "52"
      ]
     },
     "execution_count": 414,
     "metadata": {},
     "output_type": "execute_result"
    }
   ],
   "source": [
    "def hashvalue(string):\n",
    "    hash = id(string)\n",
    "    \n",
    "    return hash % 100 #Cuz the array we are considering is static and of size 100\n",
    "\n",
    "hashvalue(\"123456\")"
   ]
  },
  {
   "cell_type": "markdown",
   "metadata": {},
   "source": [
    "# Making a Hash Table using Linked List "
   ]
  },
  {
   "cell_type": "markdown",
   "metadata": {},
   "source": [
    "> Name the class Hash table\n",
    "\n",
    "> put(k,v) \n",
    "\n",
    "> get(k) :v\n",
    "\n",
    "> remove(k)\n",
    "\n",
    "> Collisions: chaining "
   ]
  },
  {
   "cell_type": "markdown",
   "metadata": {},
   "source": [
    "make a hash table with chaining using linked list \n",
    "\n",
    "_ put()\n",
    "\n",
    "_ get()\n",
    "\n",
    "_ remove()"
   ]
  },
  {
   "cell_type": "code",
   "execution_count": 409,
   "metadata": {},
   "outputs": [],
   "source": [
    "class ListNode:\n",
    "    \n",
    "    def __init__(self, key, value):\n",
    "        self.value = value\n",
    "        self.key = key \n",
    "        self.next = None\n",
    "\n",
    "        \n",
    "class HashTable:\n",
    "    \n",
    "    def __init__(self, capacity=100):\n",
    "        self.capacity = capacity\n",
    "        self.entries = [None for _ in range(self.capacity)] \n",
    "        \n",
    "    def hashFunction(self, input):\n",
    "        hash = id(input)\n",
    "        return hash % self.capacity\n",
    "    \n",
    "    def put(self, key, value):\n",
    "        # using hash function find the index \n",
    "        index = self.hashFunction(key)\n",
    "        \n",
    "        # If index is None, initialize the ll\n",
    "        if (self.entries[index] == None):\n",
    "            self.entries[index] = ListNode(key, value)\n",
    "        else:   \n",
    "        # traverse over the ll to check for a same key\n",
    "            bucket = self.entries[index]\n",
    "            current = bucket\n",
    "            while current:\n",
    "                # if the same key is found, update the value '\n",
    "                if (current.key == key):\n",
    "                    current.value = value\n",
    "                    return\n",
    "                 # add the value to the last of the linked list \n",
    "                if (current.next == None):\n",
    "                    current.next = ListNode(key, value)\n",
    "                    return \n",
    "\n",
    "                current = current.next\n",
    "        \n",
    "    def get(self, key):\n",
    "            # we will find the index where the key is saved using the hash function \n",
    "        index = self.hashFunction(key)\n",
    "#         print(bucket)\n",
    "            # traverse over the linked list at that index\n",
    "        if self.entries[index] != None:\n",
    "            current = self.entries[index] \n",
    "            while current:\n",
    "                if (current.key == key):\n",
    "                    return current.value\n",
    "                current = current.next\n",
    "                \n",
    "        return -1\n",
    "\n",
    "    def remove(self, key):\n",
    "        # use hash function to find the index \n",
    "        index = self.hashFunction(key)\n",
    "        \n",
    "        if (self.entries[index]):\n",
    "            current = self.entries[index]\n",
    "            prev = None\n",
    "            while current:\n",
    "                if (current.key == key):\n",
    "                    # If our target node is the first node \n",
    "                    if (prev == None):\n",
    "                        self.entries[index] = current.next\n",
    "                        return\n",
    "                    # if our target node is not the first node \n",
    "                    prev.next = current.next\n",
    "                    return\n",
    "                \n",
    "                prev = current\n",
    "                current = current.next\n",
    "            \n",
    "        return \"Error: Key not found\"\n",
    "                \n",
    "    \n",
    "    def print_list(self):\n",
    "        return [item for item in self.entries]"
   ]
  },
  {
   "cell_type": "code",
   "execution_count": 411,
   "metadata": {},
   "outputs": [
    {
     "name": "stdout",
     "output_type": "stream",
     "text": [
      "1\n",
      "10\n",
      "-1\n",
      "Error: Key not found\n",
      "-1\n"
     ]
    }
   ],
   "source": [
    "hashtable = HashTable()\n",
    "\n",
    "# print(hashtable.hashFunction(67789))\n",
    "\n",
    "hashtable.put(\"a\", 1)\n",
    "hashtable.put(\"b\", 12)\n",
    "hashtable.put(\"c\", 14)\n",
    "print(hashtable.get(\"a\"))\n",
    "\n",
    "hashtable.put(\"a\", 10)\n",
    "print(hashtable.get(\"a\"))\n",
    "\n",
    "hashtable.remove(\"a\")\n",
    "\n",
    "print(hashtable.get(\"a\"))\n",
    "\n",
    "print(hashtable.remove(\"a\"))\n",
    "print(hashtable.get(\"a\"))\n",
    "\n",
    "# print(hashtable.print_list())"
   ]
  }
 ],
 "metadata": {
  "kernelspec": {
   "display_name": "Python 3",
   "language": "python",
   "name": "python3"
  },
  "language_info": {
   "codemirror_mode": {
    "name": "ipython",
    "version": 3
   },
   "file_extension": ".py",
   "mimetype": "text/x-python",
   "name": "python",
   "nbconvert_exporter": "python",
   "pygments_lexer": "ipython3",
   "version": "3.8.3"
  },
  "toc": {
   "base_numbering": 1,
   "nav_menu": {},
   "number_sections": true,
   "sideBar": true,
   "skip_h1_title": false,
   "title_cell": "Table of Contents",
   "title_sidebar": "Contents",
   "toc_cell": false,
   "toc_position": {},
   "toc_section_display": true,
   "toc_window_display": false
  },
  "varInspector": {
   "cols": {
    "lenName": 16,
    "lenType": 16,
    "lenVar": 40
   },
   "kernels_config": {
    "python": {
     "delete_cmd_postfix": "",
     "delete_cmd_prefix": "del ",
     "library": "var_list.py",
     "varRefreshCmd": "print(var_dic_list())"
    },
    "r": {
     "delete_cmd_postfix": ") ",
     "delete_cmd_prefix": "rm(",
     "library": "var_list.r",
     "varRefreshCmd": "cat(var_dic_list()) "
    }
   },
   "types_to_exclude": [
    "module",
    "function",
    "builtin_function_or_method",
    "instance",
    "_Feature"
   ],
   "window_display": false
  }
 },
 "nbformat": 4,
 "nbformat_minor": 4
}
