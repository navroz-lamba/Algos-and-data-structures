{
 "cells": [
  {
   "cell_type": "markdown",
   "metadata": {},
   "source": [
    "# Exercise 1 "
   ]
  },
  {
   "cell_type": "code",
   "execution_count": 44,
   "metadata": {},
   "outputs": [
    {
     "name": "stdout",
     "output_type": "stream",
     "text": [
      "g\n"
     ]
    }
   ],
   "source": [
    "def findFirstNonRepeatedChar(string):\n",
    "    \n",
    "    dict1 = {}\n",
    "    \n",
    "    for i in string:\n",
    "        dict1[i] = string.count(i)\n",
    "        if dict1[i] == 1:\n",
    "            return i\n",
    "    \n",
    "print(findFirstNonRepeatedChar(\"green apple\"))"
   ]
  },
  {
   "cell_type": "markdown",
   "metadata": {},
   "source": [
    "# Exercise 2"
   ]
  },
  {
   "cell_type": "code",
   "execution_count": 43,
   "metadata": {},
   "outputs": [
    {
     "name": "stdout",
     "output_type": "stream",
     "text": [
      "e\n"
     ]
    }
   ],
   "source": [
    "def firstRepeatedChar(string):\n",
    "    \n",
    "    set1 = set()\n",
    "    for i in string:\n",
    "        if i in set1:\n",
    "            return i\n",
    "        \n",
    "        set1.add(i)\n",
    "    \n",
    "    return \"Nada\"\n",
    "    \n",
    "    \n",
    "print(firstRepeatedChar(\"green apple\"))"
   ]
  },
  {
   "cell_type": "markdown",
   "metadata": {},
   "source": [
    "# Hash functions"
   ]
  },
  {
   "cell_type": "markdown",
   "metadata": {},
   "source": [
    "Get the value of the given string to store that into an array of size 100"
   ]
  },
  {
   "cell_type": "code",
   "execution_count": 52,
   "metadata": {},
   "outputs": [
    {
     "data": {
      "text/plain": [
       "9"
      ]
     },
     "execution_count": 52,
     "metadata": {},
     "output_type": "execute_result"
    }
   ],
   "source": [
    "def hashvalue(string):\n",
    "\n",
    "    hash = 0\n",
    "    for i in string:\n",
    "        hash += ord(i)\n",
    "\n",
    "    return hash % 100 #Cuz the array we are considering is static and of size 100\n",
    "\n",
    "hashvalue(\"123456\")"
   ]
  },
  {
   "cell_type": "markdown",
   "metadata": {},
   "source": [
    "# Making a Hash Table using Linked List "
   ]
  },
  {
   "cell_type": "markdown",
   "metadata": {},
   "source": [
    "> Name the class Hash table\n",
    "> put(k,v) \n",
    "> get(k) :v\n",
    "> remove(k)\n",
    "> k: int \n",
    "> v: strinh\n",
    "> Collisions: chaining "
   ]
  },
  {
   "cell_type": "code",
   "execution_count": null,
   "metadata": {},
   "outputs": [],
   "source": [
    "class Node:\n",
    "    def __init__(self, value):\n",
    "        self.value = value\n",
    "        self.next = None\n",
    "\n",
    "        \n",
    "class LinkedList:\n",
    "    def __init__(self):\n",
    "        self.entries = [0,] * 5\n",
    "        self.first = None\n",
    "        self.last = None\n",
    "    \n",
    "    def addlast(self, value):\n",
    "        # intitializing a node \n",
    "        node = Node(value)\n",
    "        # if empty\n",
    "        if (self.first == None and self.last == None):\n",
    "            return first = last = node \n",
    "        # else\n",
    "        self.last.next = node\n",
    "        self.last = node \n",
    "        \n",
    "        \n",
    "class Entry:\n",
    "    def __init__(self, key, value)\n",
    "    self.key = key\n",
    "    self.value = value\n",
    "    \n",
    "    \n",
    "class HashTable:\n",
    "    entries = LinkedList()\n",
    "    \n",
    "    def hashFunction(key):\n",
    "            hash = 0\n",
    "            for i in key:\n",
    "                hash += ord(i)\n",
    "            return hash % len(entries)\n",
    "        \n",
    "    # put method \n",
    "    def put(key, value):\n",
    "    # we will use the hash function to get the index\n",
    "         index = hashFunction(key)\n",
    "    # Instantiating a note object\n",
    "        node = Node(value)\n",
    "    # if the value at the index is null\n",
    "        if (entries[index] == None):\n",
    "            entries[index] = node \n",
    "    # if there is a value at the index \n",
    "    # they are colliding, we add a new ll at the end \n",
    "    # before add the entry to the last we have to make sure \n",
    "    # that there is no other same key\n",
    "    # else we update the value of the key \n",
    "        # iterate ove the LL \n",
    "        for entry in entries[index]:\n",
    "            if (entry.key == key):\n",
    "                entry.value = value\n",
    "                return \n",
    "        # if we don't find the same key we append       \n",
    "        entry = Entry(key, value)\n",
    "        entries[index].addlast(entry)\n",
    "    # if there is an collision we use chaining by adding the a node to the end \n",
    "    "
   ]
  }
 ],
 "metadata": {
  "kernelspec": {
   "display_name": "Python 3",
   "language": "python",
   "name": "python3"
  },
  "language_info": {
   "codemirror_mode": {
    "name": "ipython",
    "version": 3
   },
   "file_extension": ".py",
   "mimetype": "text/x-python",
   "name": "python",
   "nbconvert_exporter": "python",
   "pygments_lexer": "ipython3",
   "version": "3.8.3"
  },
  "toc": {
   "base_numbering": 1,
   "nav_menu": {},
   "number_sections": true,
   "sideBar": true,
   "skip_h1_title": false,
   "title_cell": "Table of Contents",
   "title_sidebar": "Contents",
   "toc_cell": false,
   "toc_position": {},
   "toc_section_display": true,
   "toc_window_display": false
  },
  "varInspector": {
   "cols": {
    "lenName": 16,
    "lenType": 16,
    "lenVar": 40
   },
   "kernels_config": {
    "python": {
     "delete_cmd_postfix": "",
     "delete_cmd_prefix": "del ",
     "library": "var_list.py",
     "varRefreshCmd": "print(var_dic_list())"
    },
    "r": {
     "delete_cmd_postfix": ") ",
     "delete_cmd_prefix": "rm(",
     "library": "var_list.r",
     "varRefreshCmd": "cat(var_dic_list()) "
    }
   },
   "types_to_exclude": [
    "module",
    "function",
    "builtin_function_or_method",
    "instance",
    "_Feature"
   ],
   "window_display": false
  }
 },
 "nbformat": 4,
 "nbformat_minor": 4
}
