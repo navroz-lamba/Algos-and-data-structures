{
 "cells": [
  {
   "cell_type": "code",
   "execution_count": null,
   "metadata": {},
   "outputs": [],
   "source": []
  },
  {
   "cell_type": "code",
   "execution_count": 108,
   "metadata": {},
   "outputs": [],
   "source": [
    "class PriorityQueue():\n",
    "    \n",
    "    def __init__(self, size):\n",
    "        self.items = [0,] * size\n",
    "        self.count = 0\n",
    "        \n",
    "    def is_empty(self):\n",
    "        return self.count == 0;\n",
    "    \n",
    "    \n",
    "    def add(self,item):\n",
    "        i = 0\n",
    "        \n",
    "        if (self.count == len(self.items)):\n",
    "            return \"Queue is full\"\n",
    "        \n",
    "        \n",
    "        for i in range(self.count-1,-1,-1):\n",
    "            print(i, self.count)\n",
    "            if (self.items[i] > item):\n",
    "                self.items[i+1] = self.items[i]\n",
    "            else:\n",
    "                break\n",
    "        \n",
    "        self.items[i+1] = item\n",
    "        self.count+=1\n",
    "        \n",
    "        \n",
    "    def remove(self):\n",
    "        if (PriorityQueue.is_empty(self)):\n",
    "            return \"Queue is Empty\"\n",
    "        \n",
    "        self.count -= 1\n",
    "        return self.items[self.count]\n",
    "    \n",
    "    \n",
    "    def print_queue(self):\n",
    "        return [item for item in self.items]\n",
    "            "
   ]
  },
  {
   "cell_type": "code",
   "execution_count": 111,
   "metadata": {},
   "outputs": [],
   "source": [
    "queue = PriorityQueue(5)"
   ]
  },
  {
   "cell_type": "code",
   "execution_count": 119,
   "metadata": {},
   "outputs": [
    {
     "name": "stdout",
     "output_type": "stream",
     "text": [
      "3 4\n",
      "2 4\n",
      "[0, 1, 1, 1, 5]\n",
      "5\n",
      "[0, 1, 1, 1, 5]\n"
     ]
    }
   ],
   "source": [
    "\n",
    "queue.add(1)\n",
    "# queue.add(1)\n",
    "queue.add(5)\n",
    "queue.add(7)\n",
    "queue.add(10)\n",
    "\n",
    "# queue.add(3)\n",
    "\n",
    "print(queue.print_queue())\n",
    "\n",
    "# while (queue.is_empty()):\n",
    "print(queue.remove())\n",
    "\n",
    "print(queue.print_queue())"
   ]
  },
  {
   "cell_type": "code",
   "execution_count": null,
   "metadata": {},
   "outputs": [],
   "source": []
  }
 ],
 "metadata": {
  "kernelspec": {
   "display_name": "Python 3",
   "language": "python",
   "name": "python3"
  },
  "language_info": {
   "codemirror_mode": {
    "name": "ipython",
    "version": 3
   },
   "file_extension": ".py",
   "mimetype": "text/x-python",
   "name": "python",
   "nbconvert_exporter": "python",
   "pygments_lexer": "ipython3",
   "version": "3.8.3"
  },
  "toc": {
   "base_numbering": 1,
   "nav_menu": {},
   "number_sections": true,
   "sideBar": true,
   "skip_h1_title": false,
   "title_cell": "Table of Contents",
   "title_sidebar": "Contents",
   "toc_cell": false,
   "toc_position": {},
   "toc_section_display": true,
   "toc_window_display": false
  },
  "varInspector": {
   "cols": {
    "lenName": 16,
    "lenType": 16,
    "lenVar": 40
   },
   "kernels_config": {
    "python": {
     "delete_cmd_postfix": "",
     "delete_cmd_prefix": "del ",
     "library": "var_list.py",
     "varRefreshCmd": "print(var_dic_list())"
    },
    "r": {
     "delete_cmd_postfix": ") ",
     "delete_cmd_prefix": "rm(",
     "library": "var_list.r",
     "varRefreshCmd": "cat(var_dic_list()) "
    }
   },
   "types_to_exclude": [
    "module",
    "function",
    "builtin_function_or_method",
    "instance",
    "_Feature"
   ],
   "window_display": false
  }
 },
 "nbformat": 4,
 "nbformat_minor": 4
}
