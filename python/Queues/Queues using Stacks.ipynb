{
 "cells": [
  {
   "cell_type": "code",
   "execution_count": null,
   "metadata": {},
   "outputs": [],
   "source": []
  },
  {
   "cell_type": "code",
   "execution_count": 16,
   "metadata": {},
   "outputs": [],
   "source": [
    "class StackQueue():\n",
    "    \n",
    "    def __init__(self):\n",
    "        self.pre_stack = []\n",
    "        self.post_stack = []\n",
    "    \n",
    "    # method returning a boolean if pre and post stack are empty\n",
    "    def is_empty(self):\n",
    "        return self.pre_stack == [] and self.post_stack == []\n",
    "    \n",
    "    # making a method to fill up the post_stack if empty\n",
    "    def move_stack1_to_stack2(self):\n",
    "        if (self.post_stack == []):\n",
    "            while (self.pre_stack != []):\n",
    "                self.post_stack.append(self.pre_stack.pop())\n",
    "        \n",
    "    def enqueue(self, item):\n",
    "        element = self.pre_stack.append(item)\n",
    "        return element\n",
    "    \n",
    "    def dequeue(self):\n",
    "        if StackQueue.is_empty(self):\n",
    "            return \"Stack is empty\"\n",
    "        StackQueue.move_stack1_to_stack2(self)\n",
    "        return self.post_stack.pop()\n",
    "    \n",
    "    def peek(self):\n",
    "        if is_empty():\n",
    "            return \"Stack is empty\"\n",
    "        StackQueue.move_stack1_to_stack2(self)\n",
    "        return self.post_stack[-1]\n",
    "    \n",
    "    def print_items_prestack(self):\n",
    "        return [e for i, e in enumerate(self.pre_stack)]\n",
    "    \n",
    "    def print_items_poststack(self):\n",
    "        return [e for i, e in enumerate(self.post_stack)]"
   ]
  },
  {
   "cell_type": "code",
   "execution_count": 18,
   "metadata": {},
   "outputs": [
    {
     "name": "stdout",
     "output_type": "stream",
     "text": [
      "[10, 20, 30, 40, 50]\n",
      "[]\n",
      "\n",
      "dequeue_1 10\n",
      "\n",
      "dequeue_2 20\n",
      "[]\n",
      "[50, 40, 30]\n",
      "\n",
      "dequeue_3 30\n",
      "\n",
      "dequeue_4 40\n",
      "\n",
      "dequeue_5 50\n",
      "[]\n",
      "[]\n",
      "[60, 70]\n",
      "[]\n",
      "\n",
      "dequeue_6 60\n",
      "\n",
      "dequeue_7 70\n",
      "[]\n",
      "[]\n"
     ]
    }
   ],
   "source": [
    "queue = StackQueue()\n",
    "\n",
    "queue.enqueue(10)\n",
    "queue.enqueue(20)\n",
    "queue.enqueue(30)\n",
    "queue.enqueue(40)\n",
    "queue.enqueue(50)\n",
    "\n",
    "print(queue.print_items_prestack())\n",
    "print(queue.print_items_poststack())\n",
    "\n",
    "print(\"\\ndequeue_1\",queue.dequeue())\n",
    "print(\"\\ndequeue_2\",queue.dequeue())\n",
    "\n",
    "print(queue.print_items_prestack())\n",
    "print(queue.print_items_poststack())\n",
    "\n",
    "print(\"\\ndequeue_3\",queue.dequeue())\n",
    "print(\"\\ndequeue_4\",queue.dequeue())\n",
    "print(\"\\ndequeue_5\",queue.dequeue())\n",
    "\n",
    "print(queue.print_items_prestack())\n",
    "print(queue.print_items_poststack())\n",
    "\n",
    "queue.enqueue(60)\n",
    "queue.enqueue(70)\n",
    "\n",
    "print(queue.print_items_prestack())\n",
    "print(queue.print_items_poststack())\n",
    "\n",
    "print(\"\\ndequeue_6\",queue.dequeue())\n",
    "print(\"\\ndequeue_7\",queue.dequeue())\n",
    "      \n",
    "print(queue.print_items_prestack())\n",
    "print(queue.print_items_poststack())\n"
   ]
  },
  {
   "cell_type": "code",
   "execution_count": null,
   "metadata": {},
   "outputs": [],
   "source": []
  }
 ],
 "metadata": {
  "kernelspec": {
   "display_name": "Python 3",
   "language": "python",
   "name": "python3"
  },
  "language_info": {
   "codemirror_mode": {
    "name": "ipython",
    "version": 3
   },
   "file_extension": ".py",
   "mimetype": "text/x-python",
   "name": "python",
   "nbconvert_exporter": "python",
   "pygments_lexer": "ipython3",
   "version": "3.8.3"
  },
  "toc": {
   "base_numbering": 1,
   "nav_menu": {},
   "number_sections": true,
   "sideBar": true,
   "skip_h1_title": false,
   "title_cell": "Table of Contents",
   "title_sidebar": "Contents",
   "toc_cell": false,
   "toc_position": {},
   "toc_section_display": true,
   "toc_window_display": false
  },
  "varInspector": {
   "cols": {
    "lenName": 16,
    "lenType": 16,
    "lenVar": 40
   },
   "kernels_config": {
    "python": {
     "delete_cmd_postfix": "",
     "delete_cmd_prefix": "del ",
     "library": "var_list.py",
     "varRefreshCmd": "print(var_dic_list())"
    },
    "r": {
     "delete_cmd_postfix": ") ",
     "delete_cmd_prefix": "rm(",
     "library": "var_list.r",
     "varRefreshCmd": "cat(var_dic_list()) "
    }
   },
   "types_to_exclude": [
    "module",
    "function",
    "builtin_function_or_method",
    "instance",
    "_Feature"
   ],
   "window_display": false
  }
 },
 "nbformat": 4,
 "nbformat_minor": 4
}
