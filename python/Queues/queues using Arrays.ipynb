{
 "cells": [
  {
   "cell_type": "markdown",
   "metadata": {},
   "source": [
    "# First in First out"
   ]
  },
  {
   "cell_type": "markdown",
   "metadata": {},
   "source": [
    "### name the class ArrayQueue\n",
    "Make the following methods:\n",
    "\n",
    "- enqueque : Adding the item to the array from the top \n",
    "- dequeue : Deleting the very first item, index 0\n",
    "- peek : looking at the item at index 0\n",
    "- is empty :\n",
    "- is full :"
   ]
  },
  {
   "cell_type": "code",
   "execution_count": 75,
   "metadata": {},
   "outputs": [],
   "source": [
    "class ArrayQueue():\n",
    "    # adding the size of an array in the constructor\n",
    "    def __init__(self, size):\n",
    "        # instantiating an array to 5\n",
    "        # so we run into a problem \n",
    "        # where we have to use circular arrays\n",
    "        self.items = [0,] * size\n",
    "        self.count = 0\n",
    "        self.rear = 0\n",
    "        self.front = 0\n",
    "    \n",
    "    def enqueue(self, item):\n",
    "        if (self.count == len(self.items)):\n",
    "            return f\"Queue is full\"\n",
    "        \n",
    "        self.items[self.rear] = item\n",
    "        # Using Circular arrays \n",
    "        self.rear = (self.rear + 1) % len(self.items)\n",
    "        self.count += 1\n",
    "        print(f\"\\nenqueue:\\ncount: {self.count}\\nrear: {self.rear}\")\n",
    "\n",
    "        \n",
    "    def dequeue(self):\n",
    "        if (self.count == 0):\n",
    "            return f\"List is Empty\"\n",
    "        item = self.items[self.front]\n",
    "        self.items[self.front] = 0\n",
    "        # using circular arrays \n",
    "        self.front = (self.front + 1) % len(self.items)\n",
    "        self.count -= 1\n",
    "        print(f\"\\ndequeue:\\ncount: {self.count}\\nfront: {self.rear}\")\n",
    "        return item\n",
    "    \n",
    "    def peek(self):\n",
    "        return self.items[self.front]\n",
    "    \n",
    "    def is_empty(self):\n",
    "        return self.items == []\n",
    "    \n",
    "    def is_full(self):\n",
    "        return self.count == len(self.items)\n",
    "    \n",
    "    def print_items(self):\n",
    "        return [e for i, e in enumerate(self.items)]"
   ]
  },
  {
   "cell_type": "code",
   "execution_count": 76,
   "metadata": {},
   "outputs": [
    {
     "name": "stdout",
     "output_type": "stream",
     "text": [
      "\n",
      "enqueue:\n",
      "count: 1\n",
      "rear: 1\n",
      "\n",
      "enqueue:\n",
      "count: 2\n",
      "rear: 2\n",
      "\n",
      "enqueue:\n",
      "count: 3\n",
      "rear: 3\n",
      "\n",
      "enqueue:\n",
      "count: 4\n",
      "rear: 4\n",
      "Array: [10, 20, 30, 40, 0]\n",
      "\n",
      "dequeue:\n",
      "count: 3\n",
      "front: 4\n",
      "\n",
      "dequeue:\n",
      "count: 2\n",
      "front: 4\n",
      "\n",
      "enqueue:\n",
      "count: 3\n",
      "rear: 0\n",
      "\n",
      "enqueue:\n",
      "count: 4\n",
      "rear: 1\n",
      "\n",
      "enqueue:\n",
      "count: 5\n",
      "rear: 2\n",
      "\n",
      "Array: [60, 70, 30, 40, 50]\n",
      "\n",
      "peek: 30\n",
      "\n",
      "is_empty: False\n",
      "\n",
      "is_full: True\n"
     ]
    }
   ],
   "source": [
    "queue = ArrayQueue(5)\n",
    "\n",
    "queue.enqueue(10)\n",
    "queue.enqueue(20)\n",
    "queue.enqueue(30)\n",
    "queue.enqueue(40)\n",
    "\n",
    "\n",
    "print(\"Array:\", queue.print_items())\n",
    "\n",
    "queue.dequeue()\n",
    "queue.dequeue()\n",
    "\n",
    "queue.enqueue(50)\n",
    "queue.enqueue(60)\n",
    "queue.enqueue(70)\n",
    "print(\"\\nArray:\", queue.print_items())\n",
    "\n",
    "\n",
    "\n",
    "print(\"\\npeek:\", queue.peek())\n",
    "\n",
    "print(\"\\nis_empty:\", queue.is_empty())\n",
    "\n",
    "print(\"\\nis_full:\", queue.is_full())"
   ]
  },
  {
   "cell_type": "code",
   "execution_count": null,
   "metadata": {},
   "outputs": [],
   "source": []
  }
 ],
 "metadata": {
  "kernelspec": {
   "display_name": "Python 3",
   "language": "python",
   "name": "python3"
  },
  "language_info": {
   "codemirror_mode": {
    "name": "ipython",
    "version": 3
   },
   "file_extension": ".py",
   "mimetype": "text/x-python",
   "name": "python",
   "nbconvert_exporter": "python",
   "pygments_lexer": "ipython3",
   "version": "3.8.3"
  },
  "toc": {
   "base_numbering": 1,
   "nav_menu": {},
   "number_sections": true,
   "sideBar": true,
   "skip_h1_title": false,
   "title_cell": "Table of Contents",
   "title_sidebar": "Contents",
   "toc_cell": false,
   "toc_position": {},
   "toc_section_display": true,
   "toc_window_display": false
  },
  "varInspector": {
   "cols": {
    "lenName": 16,
    "lenType": 16,
    "lenVar": 40
   },
   "kernels_config": {
    "python": {
     "delete_cmd_postfix": "",
     "delete_cmd_prefix": "del ",
     "library": "var_list.py",
     "varRefreshCmd": "print(var_dic_list())"
    },
    "r": {
     "delete_cmd_postfix": ") ",
     "delete_cmd_prefix": "rm(",
     "library": "var_list.r",
     "varRefreshCmd": "cat(var_dic_list()) "
    }
   },
   "types_to_exclude": [
    "module",
    "function",
    "builtin_function_or_method",
    "instance",
    "_Feature"
   ],
   "window_display": false
  }
 },
 "nbformat": 4,
 "nbformat_minor": 4
}
