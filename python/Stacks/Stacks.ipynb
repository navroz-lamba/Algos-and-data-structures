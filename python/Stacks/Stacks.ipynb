{
 "cells": [
  {
   "cell_type": "markdown",
   "metadata": {},
   "source": [
    "String reversal using stacks"
   ]
  },
  {
   "cell_type": "code",
   "execution_count": 1,
   "metadata": {},
   "outputs": [],
   "source": [
    "def reverser(string):\n",
    "\n",
    "    stack = []\n",
    "    for char in string:\n",
    "        stack.append(char)\n",
    "        \n",
    "    reverse_str = \"\"\n",
    "    for _ in range(len(string)):\n",
    "        reverse_str += stack.pop()\n",
    "        \n",
    "    return reverse_str\n",
    "    "
   ]
  },
  {
   "cell_type": "code",
   "execution_count": 2,
   "metadata": {},
   "outputs": [
    {
     "name": "stdout",
     "output_type": "stream",
     "text": [
      "edcba\n"
     ]
    }
   ],
   "source": [
    "string = \"abcde\"\n",
    "print(reverser(string))"
   ]
  },
  {
   "cell_type": "markdown",
   "metadata": {},
   "source": [
    "Check the balancing in a string\n"
   ]
  },
  {
   "cell_type": "code",
   "execution_count": 278,
   "metadata": {},
   "outputs": [],
   "source": [
    "def isbalanced(string):\n",
    "    \n",
    "    stack = []\n",
    "    \n",
    "    for ch in string:\n",
    "        if ch == \"(\":\n",
    "            stack.append(ch)\n",
    "            \n",
    "        elif ch == \")\":\n",
    "            if stack == []:\n",
    "                return False\n",
    "            stack.pop()\n",
    "            \n",
    "            \n",
    "    return (stack == [])"
   ]
  },
  {
   "cell_type": "code",
   "execution_count": 279,
   "metadata": {},
   "outputs": [
    {
     "data": {
      "text/plain": [
       "True"
      ]
     },
     "execution_count": 279,
     "metadata": {},
     "output_type": "execute_result"
    }
   ],
   "source": [
    "isbalanced(\"(1+2)\")"
   ]
  },
  {
   "cell_type": "markdown",
   "metadata": {},
   "source": [
    "Supporting multiple brackets"
   ]
  },
  {
   "cell_type": "code",
   "execution_count": 280,
   "metadata": {},
   "outputs": [],
   "source": [
    "def isbalanced(string):\n",
    "    \n",
    "    stack = []\n",
    "    \n",
    "    for ch in string:\n",
    "        if ch == \"(\" or ch ==\"<\" or ch ==\"[\" or ch ==\"{\":\n",
    "            stack.append(ch)\n",
    "            \n",
    "        if ch == \")\" or ch ==\">\" or ch ==\"]\" or ch ==\"}\":\n",
    "            \n",
    "            if stack == []:\n",
    "                return False\n",
    "            \n",
    "            top = stack.pop()\n",
    "            if (ch == \"(\" and top != \")\") or \\\n",
    "                (ch == \"<\" and top != \">\") or \\\n",
    "                (ch == \"[\" and top != \"]\") or \\\n",
    "                (ch == \"{\" and top != \"}\") :\n",
    "                return False\n",
    "            \n",
    "            \n",
    "    return (True if stack == [] else False)"
   ]
  },
  {
   "cell_type": "code",
   "execution_count": 281,
   "metadata": {
    "scrolled": true
   },
   "outputs": [
    {
     "data": {
      "text/plain": [
       "True"
      ]
     },
     "execution_count": 281,
     "metadata": {},
     "output_type": "execute_result"
    }
   ],
   "source": [
    "isbalanced(\"\")"
   ]
  },
  {
   "cell_type": "markdown",
   "metadata": {},
   "source": [
    "Second Refracting"
   ]
  },
  {
   "cell_type": "code",
   "execution_count": 282,
   "metadata": {},
   "outputs": [],
   "source": [
    "def isbalanced(string):\n",
    "    \n",
    "    stack = []\n",
    "    \n",
    "    left_brackets = [\"(\", \"<\", \"[\", \"{\"]\n",
    "    right_brackets = [\")\", \">\", \"]\", \"}\"]\n",
    "    \n",
    "    for char in string:\n",
    "        \n",
    "        if char in left_brackets:\n",
    "            stack.append(char)\n",
    "            continue\n",
    "        \n",
    "        if char in right_brackets:\n",
    "            if stack == []:\n",
    "                return False \n",
    "            \n",
    "            var = stack.pop()\n",
    "            \n",
    "            if right_brackets.index(char) != left_brackets.index(var):\n",
    "                return False\n",
    "    \n",
    "    return (stack == [])"
   ]
  },
  {
   "cell_type": "code",
   "execution_count": 284,
   "metadata": {},
   "outputs": [
    {
     "data": {
      "text/plain": [
       "False"
      ]
     },
     "execution_count": 284,
     "metadata": {},
     "output_type": "execute_result"
    }
   ],
   "source": [
    "isbalanced(\"(1+2>\")"
   ]
  },
  {
   "cell_type": "markdown",
   "metadata": {},
   "source": [
    "Building a Stack using an Array \n",
    "\n",
    "Make the following methods:\n",
    " - Push\n",
    " - Pop\n",
    " - peek\n",
    " - isEmpty"
   ]
  },
  {
   "cell_type": "code",
   "execution_count": 446,
   "metadata": {},
   "outputs": [],
   "source": [
    "class Stack():\n",
    "    \n",
    "    def __init__(self):\n",
    "        # initializing an array to 5 \n",
    "        self.items = []\n",
    "        self.count = 0\n",
    "    \n",
    "    def push(self, item):\n",
    "        self.items[self.count:] = [item]\n",
    "        self.count += 1                       \n",
    "        print(\"Push index:\",self.count)\n",
    "        \n",
    "    def pop(self):\n",
    "        self.count-=1\n",
    "        pop = self.items[self.count]\n",
    "        print(\"Pop index:\",self.count)\n",
    "        return pop\n",
    "    \n",
    "    def peek(self):\n",
    "        return self.items[self.count-1]\n",
    "    \n",
    "    def is_empty(self):\n",
    "        return self.items == []\n",
    "    \n",
    "    def print_items(self):\n",
    "        return [e for i, e in enumerate(self.items) if e != 0]\n",
    "        "
   ]
  },
  {
   "cell_type": "code",
   "execution_count": 447,
   "metadata": {},
   "outputs": [
    {
     "name": "stdout",
     "output_type": "stream",
     "text": [
      "Push index: 1\n",
      "Push index: 2\n",
      "Array: [20, 40]\n",
      "Pop index: 1\n",
      "pop: 40\n",
      "peek: 20\n",
      "False\n"
     ]
    }
   ],
   "source": [
    "stack = Stack()\n",
    "\n",
    "stack.push(20)\n",
    "stack.push(40)\n",
    "\n",
    "print(\"Array:\", stack.print_items())\n",
    "\n",
    "print(\"pop:\", stack.pop())\n",
    "\n",
    "print(\"peek:\", stack.peek())\n",
    "\n",
    "print(stack.is_empty())"
   ]
  },
  {
   "cell_type": "code",
   "execution_count": null,
   "metadata": {},
   "outputs": [],
   "source": []
  }
 ],
 "metadata": {
  "kernelspec": {
   "display_name": "Python 3",
   "language": "python",
   "name": "python3"
  },
  "language_info": {
   "codemirror_mode": {
    "name": "ipython",
    "version": 3
   },
   "file_extension": ".py",
   "mimetype": "text/x-python",
   "name": "python",
   "nbconvert_exporter": "python",
   "pygments_lexer": "ipython3",
   "version": "3.8.3"
  },
  "notify_time": "5",
  "toc": {
   "base_numbering": 1,
   "nav_menu": {},
   "number_sections": true,
   "sideBar": true,
   "skip_h1_title": false,
   "title_cell": "Table of Contents",
   "title_sidebar": "Contents",
   "toc_cell": false,
   "toc_position": {},
   "toc_section_display": true,
   "toc_window_display": false
  },
  "varInspector": {
   "cols": {
    "lenName": 16,
    "lenType": 16,
    "lenVar": 40
   },
   "kernels_config": {
    "python": {
     "delete_cmd_postfix": "",
     "delete_cmd_prefix": "del ",
     "library": "var_list.py",
     "varRefreshCmd": "print(var_dic_list())"
    },
    "r": {
     "delete_cmd_postfix": ") ",
     "delete_cmd_prefix": "rm(",
     "library": "var_list.r",
     "varRefreshCmd": "cat(var_dic_list()) "
    }
   },
   "types_to_exclude": [
    "module",
    "function",
    "builtin_function_or_method",
    "instance",
    "_Feature"
   ],
   "window_display": false
  }
 },
 "nbformat": 4,
 "nbformat_minor": 4
}
