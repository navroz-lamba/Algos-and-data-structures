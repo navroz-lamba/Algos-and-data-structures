{
 "cells": [
  {
   "cell_type": "code",
   "execution_count": 1,
   "metadata": {},
   "outputs": [],
   "source": [
    "class Node:\n",
    "    def __init__(self, label):\n",
    "        self.label = label\n",
    "\n",
    "class Edge:\n",
    "    def __init__(self, _from, to, weight):\n",
    "        self._from = _from\n",
    "        self.to = to\n",
    "        self.weight = weight\n",
    "        \n",
    "class Graph:\n",
    "    def __init__(self):\n",
    "        self.nodes = {}\n",
    "        # we will store nodes with a list of edges\n",
    "        # as node can have mutiple edges\n",
    "        self.adjacencyList = {}\n",
    "    \n",
    "    \n",
    "    def addNode(self, label):\n",
    "        new_node = Node(label)\n",
    "        # check if the duplicate of node already exists\n",
    "        if label not in self.nodes:\n",
    "            self.nodes[label] = new_node\n",
    "            # each node will have it's ist of edges\n",
    "            self.adjacencyList[new_node] = []\n",
    "    \n",
    "    \n",
    "    def affEdge(self, _from, to, weight):\n",
    "        # we will validate the from and the to node \n",
    "        fromNode = self.nodes[_from]\n",
    "        if not fromNode:\n",
    "            return f\"Invalid Entry: Check the node\"\n",
    "        \n",
    "        toNode = self.nodes[_from]\n",
    "        if not toNode:\n",
    "            return f\"Invalid Entry: Check the node\"\n",
    "        \n",
    "        # since we are implementing non directed graphs \n",
    "        # we will make the connections both ways \n",
    "        self.adjacencyList[fromNode].append(Edge(_from, to, weight))\n",
    "        self.adjacencyList[toNode].append(Edge(to, _from, weight))\n",
    "    \n",
    "    \n",
    "    # add the print function "
   ]
  },
  {
   "cell_type": "code",
   "execution_count": null,
   "metadata": {},
   "outputs": [],
   "source": []
  }
 ],
 "metadata": {
  "kernelspec": {
   "display_name": "Python 3",
   "language": "python",
   "name": "python3"
  },
  "language_info": {
   "codemirror_mode": {
    "name": "ipython",
    "version": 3
   },
   "file_extension": ".py",
   "mimetype": "text/x-python",
   "name": "python",
   "nbconvert_exporter": "python",
   "pygments_lexer": "ipython3",
   "version": "3.8.3"
  },
  "toc": {
   "base_numbering": 1,
   "nav_menu": {},
   "number_sections": true,
   "sideBar": true,
   "skip_h1_title": false,
   "title_cell": "Table of Contents",
   "title_sidebar": "Contents",
   "toc_cell": false,
   "toc_position": {},
   "toc_section_display": true,
   "toc_window_display": false
  },
  "varInspector": {
   "cols": {
    "lenName": 16,
    "lenType": 16,
    "lenVar": 40
   },
   "kernels_config": {
    "python": {
     "delete_cmd_postfix": "",
     "delete_cmd_prefix": "del ",
     "library": "var_list.py",
     "varRefreshCmd": "print(var_dic_list())"
    },
    "r": {
     "delete_cmd_postfix": ") ",
     "delete_cmd_prefix": "rm(",
     "library": "var_list.r",
     "varRefreshCmd": "cat(var_dic_list()) "
    }
   },
   "types_to_exclude": [
    "module",
    "function",
    "builtin_function_or_method",
    "instance",
    "_Feature"
   ],
   "window_display": false
  }
 },
 "nbformat": 4,
 "nbformat_minor": 4
}
